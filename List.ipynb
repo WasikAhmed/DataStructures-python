{
 "cells": [
  {
   "cell_type": "markdown",
   "id": "fd2c6fed-f133-4e10-9144-e3adc8db5a7c",
   "metadata": {},
   "source": [
    "# Python Lists"
   ]
  },
  {
   "cell_type": "markdown",
   "id": "c42331d8-5867-4ce0-9b71-6b1c30abce9e",
   "metadata": {},
   "source": [
    "**Lists are used to store multiple items in a single variable. A list can contain different data types.**"
   ]
  },
  {
   "cell_type": "markdown",
   "id": "732f2086-da96-4153-88c6-eaced6c2d396",
   "metadata": {},
   "source": [
    "- items are ordered\n",
    "- items are indexed (starts with 0)\n",
    "- items are changeable\n",
    "- allow duplicates"
   ]
  },
  {
   "cell_type": "code",
   "execution_count": 1,
   "id": "829143ee-a8ad-4ecc-9816-30cfe782f9b7",
   "metadata": {},
   "outputs": [
    {
     "name": "stdout",
     "output_type": "stream",
     "text": [
      "[10, 2.2, 3, 'Wasik', True]\n",
      "<class 'list'>\n"
     ]
    }
   ],
   "source": [
    "# Lists are created using square brackets\n",
    "my_list = [10, 2.2, 3, 'Wasik', True]\n",
    "print(my_list)\n",
    "\n",
    "print(type(my_list)) # type of my_list\n",
    "# lists are defined as objects with the data type 'list'"
   ]
  },
  {
   "cell_type": "markdown",
   "id": "3f321043-3fd3-4764-ba9d-ba76192fd69b",
   "metadata": {
    "jp-MarkdownHeadingCollapsed": true
   },
   "source": [
    "**Creating list using `list()` constructor**"
   ]
  },
  {
   "cell_type": "code",
   "execution_count": 2,
   "id": "06ba172e-1527-4dce-9635-eb299ed3183a",
   "metadata": {},
   "outputs": [
    {
     "name": "stdout",
     "output_type": "stream",
     "text": [
      "[1, 2, 3, 4, 5]\n",
      "<class 'list'>\n"
     ]
    }
   ],
   "source": [
    "my_list2 = list((1, 2, 3, 4, 5))\n",
    "print(my_list2)\n",
    "print(type(my_list2))"
   ]
  },
  {
   "cell_type": "markdown",
   "id": "dffa34b6-97f5-49a2-a5f6-bf8a8f12663f",
   "metadata": {},
   "source": [
    "### Accessing items"
   ]
  },
  {
   "cell_type": "code",
   "execution_count": 3,
   "id": "14f8d73c-956b-4fa4-85d0-ce73a798ad9c",
   "metadata": {},
   "outputs": [
    {
     "name": "stdout",
     "output_type": "stream",
     "text": [
      "[10, 20, [30, 40, 50], 60, 70, 80, 90, 100]\n"
     ]
    }
   ],
   "source": [
    "list = [10, 20, [30, 40, 50], 60, 70, 80, 90, 100]\n",
    "print(list)"
   ]
  },
  {
   "cell_type": "markdown",
   "id": "0ab42be5-45a7-4826-a722-2e707025b4ad",
   "metadata": {},
   "source": [
    "**refering to index number**"
   ]
  },
  {
   "cell_type": "code",
   "execution_count": 4,
   "id": "72139810-d991-477c-abb3-d185da96db02",
   "metadata": {},
   "outputs": [
    {
     "name": "stdout",
     "output_type": "stream",
     "text": [
      "10\n",
      "40\n"
     ]
    }
   ],
   "source": [
    "print(list[0])\n",
    "print(list[2][1])"
   ]
  },
  {
   "cell_type": "markdown",
   "id": "ddfa8927-51c6-4b74-813e-3a0ae14cf4a2",
   "metadata": {},
   "source": [
    "**negative indexing** (start from the end)"
   ]
  },
  {
   "cell_type": "code",
   "execution_count": 5,
   "id": "9a48cf70-2023-4a84-97bc-df3c80920e50",
   "metadata": {},
   "outputs": [
    {
     "name": "stdout",
     "output_type": "stream",
     "text": [
      "100\n"
     ]
    }
   ],
   "source": [
    "print(list[-1])\n",
    "# negative indexing starts from -1"
   ]
  },
  {
   "cell_type": "markdown",
   "id": "f658705c-5c70-4a8d-9826-0e091db1139c",
   "metadata": {},
   "source": [
    "**index range**"
   ]
  },
  {
   "cell_type": "code",
   "execution_count": 6,
   "id": "332de599-4ee7-402b-8b81-49b06347da1e",
   "metadata": {},
   "outputs": [
    {
     "name": "stdout",
     "output_type": "stream",
     "text": [
      "[20, [30, 40, 50], 60, 70]\n",
      "[10, 20]\n",
      "[[30, 40, 50], 60, 70, 80, 90, 100]\n",
      "[80, 90]\n"
     ]
    }
   ],
   "source": [
    "print(list[1:5]) # starts from index 1 and ends at index 4\n",
    "print(list[:2]) # strats from index 0 and ends at index 1\n",
    "print(list[2:]) # starts from index 2 and ends at the last index\n",
    "print(list[-3:-1]) # starts from index -3 and ends at index -2 (negative indexing)"
   ]
  }
 ],
 "metadata": {
  "kernelspec": {
   "display_name": "Python 3 (ipykernel)",
   "language": "python",
   "name": "python3"
  },
  "language_info": {
   "codemirror_mode": {
    "name": "ipython",
    "version": 3
   },
   "file_extension": ".py",
   "mimetype": "text/x-python",
   "name": "python",
   "nbconvert_exporter": "python",
   "pygments_lexer": "ipython3",
   "version": "3.12.1"
  }
 },
 "nbformat": 4,
 "nbformat_minor": 5
}
