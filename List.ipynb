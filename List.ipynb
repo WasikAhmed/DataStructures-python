{
 "cells": [
  {
   "cell_type": "markdown",
   "id": "fd2c6fed-f133-4e10-9144-e3adc8db5a7c",
   "metadata": {},
   "source": [
    "# Python Lists"
   ]
  },
  {
   "cell_type": "markdown",
   "id": "c42331d8-5867-4ce0-9b71-6b1c30abce9e",
   "metadata": {},
   "source": [
    "**Lists are used to store multiple items in a single variable. A list can contain different data types.**"
   ]
  },
  {
   "cell_type": "markdown",
   "id": "732f2086-da96-4153-88c6-eaced6c2d396",
   "metadata": {},
   "source": [
    "- items are ordered\n",
    "- items are indexed (starts with 0)\n",
    "- items are changeable\n",
    "- allow duplicates"
   ]
  },
  {
   "cell_type": "code",
   "execution_count": 1,
   "id": "829143ee-a8ad-4ecc-9816-30cfe782f9b7",
   "metadata": {},
   "outputs": [
    {
     "name": "stdout",
     "output_type": "stream",
     "text": [
      "[10, 2.2, 3, 'Wasik', True]\n",
      "<class 'list'>\n"
     ]
    }
   ],
   "source": [
    "# Lists are created using square brackets\n",
    "my_list = [10, 2.2, 3, 'Wasik', True]\n",
    "print(my_list)\n",
    "\n",
    "print(type(my_list)) # type of my_list\n",
    "# lists are defined as objects with the data type 'list'"
   ]
  },
  {
   "cell_type": "markdown",
   "id": "3f321043-3fd3-4764-ba9d-ba76192fd69b",
   "metadata": {
    "jp-MarkdownHeadingCollapsed": true
   },
   "source": [
    "**Creating list using `list()` constructor**"
   ]
  },
  {
   "cell_type": "code",
   "execution_count": 2,
   "id": "06ba172e-1527-4dce-9635-eb299ed3183a",
   "metadata": {},
   "outputs": [
    {
     "name": "stdout",
     "output_type": "stream",
     "text": [
      "[1, 2, 3, 4, 5]\n",
      "<class 'list'>\n"
     ]
    }
   ],
   "source": [
    "my_list2 = list((1, 2, 3, 4, 5))\n",
    "print(my_list2)\n",
    "print(type(my_list2))"
   ]
  }
 ],
 "metadata": {
  "kernelspec": {
   "display_name": "Python 3 (ipykernel)",
   "language": "python",
   "name": "python3"
  },
  "language_info": {
   "codemirror_mode": {
    "name": "ipython",
    "version": 3
   },
   "file_extension": ".py",
   "mimetype": "text/x-python",
   "name": "python",
   "nbconvert_exporter": "python",
   "pygments_lexer": "ipython3",
   "version": "3.12.1"
  }
 },
 "nbformat": 4,
 "nbformat_minor": 5
}
