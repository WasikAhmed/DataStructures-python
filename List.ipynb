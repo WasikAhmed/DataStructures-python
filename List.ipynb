{
 "cells": [
  {
   "cell_type": "markdown",
   "id": "fd2c6fed-f133-4e10-9144-e3adc8db5a7c",
   "metadata": {},
   "source": [
    "# Python Lists"
   ]
  },
  {
   "cell_type": "markdown",
   "id": "c42331d8-5867-4ce0-9b71-6b1c30abce9e",
   "metadata": {},
   "source": [
    "**Lists are used to store multiple items in a single variable. A list can contain different data types.**"
   ]
  },
  {
   "cell_type": "markdown",
   "id": "732f2086-da96-4153-88c6-eaced6c2d396",
   "metadata": {},
   "source": [
    "- items are ordered\n",
    "- items are indexed (starts with 0)\n",
    "- items are changeable\n",
    "- allow duplicates"
   ]
  },
  {
   "cell_type": "code",
   "execution_count": 1,
   "id": "829143ee-a8ad-4ecc-9816-30cfe782f9b7",
   "metadata": {},
   "outputs": [
    {
     "name": "stdout",
     "output_type": "stream",
     "text": [
      "[10, 2.2, 3, 'Wasik', True]\n",
      "<class 'list'>\n"
     ]
    }
   ],
   "source": [
    "# Lists are created using square brackets\n",
    "my_list = [10, 2.2, 3, 'Wasik', True]\n",
    "print(my_list)\n",
    "\n",
    "print(type(my_list)) # type of my_list\n",
    "# lists are defined as objects with the data type 'list'"
   ]
  },
  {
   "cell_type": "markdown",
   "id": "3f321043-3fd3-4764-ba9d-ba76192fd69b",
   "metadata": {
    "jp-MarkdownHeadingCollapsed": true
   },
   "source": [
    "**Creating list using `list()` constructor**"
   ]
  },
  {
   "cell_type": "code",
   "execution_count": 2,
   "id": "06ba172e-1527-4dce-9635-eb299ed3183a",
   "metadata": {},
   "outputs": [
    {
     "name": "stdout",
     "output_type": "stream",
     "text": [
      "[1, 2, 3, 4, 5]\n",
      "<class 'list'>\n"
     ]
    }
   ],
   "source": [
    "my_list2 = list((1, 2, 3, 4, 5))\n",
    "print(my_list2)\n",
    "print(type(my_list2))"
   ]
  },
  {
   "cell_type": "markdown",
   "id": "dffa34b6-97f5-49a2-a5f6-bf8a8f12663f",
   "metadata": {},
   "source": [
    "### Accessing items"
   ]
  },
  {
   "cell_type": "code",
   "execution_count": 3,
   "id": "14f8d73c-956b-4fa4-85d0-ce73a798ad9c",
   "metadata": {},
   "outputs": [
    {
     "name": "stdout",
     "output_type": "stream",
     "text": [
      "[10, 20, [30, 40, 50], 60, 70, 80, 90, 100]\n"
     ]
    }
   ],
   "source": [
    "list = [10, 20, [30, 40, 50], 60, 70, 80, 90, 100]\n",
    "print(list)"
   ]
  },
  {
   "cell_type": "markdown",
   "id": "0ab42be5-45a7-4826-a722-2e707025b4ad",
   "metadata": {},
   "source": [
    "**refering to index number**"
   ]
  },
  {
   "cell_type": "code",
   "execution_count": 4,
   "id": "72139810-d991-477c-abb3-d185da96db02",
   "metadata": {},
   "outputs": [
    {
     "name": "stdout",
     "output_type": "stream",
     "text": [
      "10\n",
      "40\n"
     ]
    }
   ],
   "source": [
    "print(list[0])\n",
    "print(list[2][1])"
   ]
  },
  {
   "cell_type": "markdown",
   "id": "ddfa8927-51c6-4b74-813e-3a0ae14cf4a2",
   "metadata": {},
   "source": [
    "**negative indexing** (start from the end)"
   ]
  },
  {
   "cell_type": "code",
   "execution_count": 5,
   "id": "9a48cf70-2023-4a84-97bc-df3c80920e50",
   "metadata": {},
   "outputs": [
    {
     "name": "stdout",
     "output_type": "stream",
     "text": [
      "100\n"
     ]
    }
   ],
   "source": [
    "print(list[-1])\n",
    "# negative indexing starts from -1"
   ]
  },
  {
   "cell_type": "markdown",
   "id": "f658705c-5c70-4a8d-9826-0e091db1139c",
   "metadata": {},
   "source": [
    "**index range**"
   ]
  },
  {
   "cell_type": "code",
   "execution_count": 6,
   "id": "332de599-4ee7-402b-8b81-49b06347da1e",
   "metadata": {},
   "outputs": [
    {
     "name": "stdout",
     "output_type": "stream",
     "text": [
      "[20, [30, 40, 50], 60, 70]\n",
      "[10, 20]\n",
      "[[30, 40, 50], 60, 70, 80, 90, 100]\n",
      "[80, 90]\n"
     ]
    }
   ],
   "source": [
    "print(list[1:5]) # starts from index 1 and ends at index 4\n",
    "print(list[:2]) # strats from index 0 and ends at index 1\n",
    "print(list[2:]) # starts from index 2 and ends at the last index\n",
    "print(list[-3:-1]) # starts from index -3 and ends at index -2 (negative indexing)"
   ]
  },
  {
   "cell_type": "markdown",
   "id": "e43eebe3-d307-482a-9474-883f645f1c0c",
   "metadata": {},
   "source": [
    "### Adding items"
   ]
  },
  {
   "cell_type": "code",
   "execution_count": 7,
   "id": "a09fd262-ea8a-4a06-a961-a13e2db66ae7",
   "metadata": {},
   "outputs": [
    {
     "name": "stdout",
     "output_type": "stream",
     "text": [
      "['w', 'a', 's', 'i']\n"
     ]
    }
   ],
   "source": [
    "list = ['w', 'a', 's', 'i']\n",
    "print(list)"
   ]
  },
  {
   "cell_type": "markdown",
   "id": "76c7c636-dc1c-4b2a-ba75-5f0bccb8c707",
   "metadata": {},
   "source": [
    "**using `append()` method** (adds an item to end of the list)"
   ]
  },
  {
   "cell_type": "code",
   "execution_count": 8,
   "id": "3c8349ac-f5b6-4060-9629-93231d3c532f",
   "metadata": {},
   "outputs": [
    {
     "name": "stdout",
     "output_type": "stream",
     "text": [
      "['w', 'a', 's', 'i', 'k']\n"
     ]
    }
   ],
   "source": [
    "list.append('k')\n",
    "print(list)"
   ]
  },
  {
   "cell_type": "markdown",
   "id": "609e3083-2f3c-46dd-8f09-6b860df6dbba",
   "metadata": {},
   "source": [
    "**using `insert()` method** (inserts an item at a specified index)"
   ]
  },
  {
   "cell_type": "code",
   "execution_count": 9,
   "id": "edbc70c5-4ed2-4fe8-8a5b-29c9874ed950",
   "metadata": {},
   "outputs": [
    {
     "name": "stdout",
     "output_type": "stream",
     "text": [
      "['My name is', 'w', 'a', 's', 'i', 'k']\n"
     ]
    }
   ],
   "source": [
    "list.insert(0, \"My name is\") # inserts at index 0. Pushes other items to the right\n",
    "print(list)"
   ]
  },
  {
   "cell_type": "markdown",
   "id": "759505fb-a1f5-444a-ac9c-6b7eb0e161d4",
   "metadata": {},
   "source": [
    "**using `extend()` method** (append items from another list)"
   ]
  },
  {
   "cell_type": "code",
   "execution_count": 10,
   "id": "8e2b8579-16ba-49cc-97c6-8c5ba647a2af",
   "metadata": {},
   "outputs": [
    {
     "name": "stdout",
     "output_type": "stream",
     "text": [
      "['I', 'Love', 'c', 'o', 'd', 'i', 'n', 'g']\n"
     ]
    }
   ],
   "source": [
    "second_list = ['I', 'Love', 'c', 'o', 'd', 'i', 'n', 'g']\n",
    "print(second_list)"
   ]
  },
  {
   "cell_type": "code",
   "execution_count": 11,
   "id": "0e77538f-c022-4497-9b28-87dd8d277577",
   "metadata": {},
   "outputs": [
    {
     "name": "stdout",
     "output_type": "stream",
     "text": [
      "['My name is', 'w', 'a', 's', 'i', 'k', 'I', 'Love', 'c', 'o', 'd', 'i', 'n', 'g']\n"
     ]
    }
   ],
   "source": [
    "list.extend(second_list) # extending second_list at the end of list\n",
    "print(list)"
   ]
  },
  {
   "cell_type": "markdown",
   "id": "abb43327-08fa-4245-87e1-e35d2aa4bc50",
   "metadata": {},
   "source": [
    "### Removing elements"
   ]
  },
  {
   "cell_type": "code",
   "execution_count": 12,
   "id": "8b09b899-9e94-4146-893d-e52ab36021f4",
   "metadata": {},
   "outputs": [
    {
     "name": "stdout",
     "output_type": "stream",
     "text": [
      "[10, 20, 30, 40, 'a', 'p', 'o', 'n']\n"
     ]
    }
   ],
   "source": [
    "mylist = [10, 20, 30, 40, 'a', 'p', 'o', 'n']\n",
    "print(mylist)"
   ]
  },
  {
   "cell_type": "markdown",
   "id": "05360930-9ebe-4a30-9f93-4c4d350138e5",
   "metadata": {},
   "source": [
    "**`remove()` method is used to remove an specified element**"
   ]
  },
  {
   "cell_type": "code",
   "execution_count": 13,
   "id": "2c0e179f-fccb-43c7-ae68-b16383065f8d",
   "metadata": {},
   "outputs": [
    {
     "name": "stdout",
     "output_type": "stream",
     "text": [
      "[20, 30, 40, 'a', 'p', 'o', 'n']\n"
     ]
    }
   ],
   "source": [
    "mylist.remove(10)\n",
    "print(mylist)"
   ]
  },
  {
   "cell_type": "markdown",
   "id": "c6d2e478-74b0-4220-80f5-0d202817ff3e",
   "metadata": {},
   "source": [
    "**`pop()` method is used to remove element at specified index**"
   ]
  },
  {
   "cell_type": "code",
   "execution_count": 14,
   "id": "e3eb9e2c-1cac-4441-b6b2-dc0e61d1ad14",
   "metadata": {},
   "outputs": [
    {
     "name": "stdout",
     "output_type": "stream",
     "text": [
      "[30, 40, 'a', 'p', 'o', 'n']\n"
     ]
    }
   ],
   "source": [
    "mylist.pop(0)\n",
    "print(mylist)"
   ]
  },
  {
   "cell_type": "markdown",
   "id": "25df271f-60a4-408d-a44b-b31821e7df30",
   "metadata": {},
   "source": [
    "**`clear()` method removes all elements in the list**"
   ]
  },
  {
   "cell_type": "code",
   "execution_count": 15,
   "id": "ac7044ea-53ac-40dd-99a0-b06d1b5f56ef",
   "metadata": {},
   "outputs": [
    {
     "name": "stdout",
     "output_type": "stream",
     "text": [
      "[]\n"
     ]
    }
   ],
   "source": [
    "mylist.clear()\n",
    "print(mylist)"
   ]
  },
  {
   "cell_type": "markdown",
   "id": "1acfd0e8-a626-454d-951f-5396bb32b0b0",
   "metadata": {},
   "source": [
    "**using `del` keyword**"
   ]
  },
  {
   "cell_type": "code",
   "execution_count": 16,
   "id": "71a93569-0d64-4eba-867e-bb78bd601f37",
   "metadata": {},
   "outputs": [
    {
     "name": "stdout",
     "output_type": "stream",
     "text": [
      "[10, 20, 30, 40, 50]\n",
      "[20, 30, 40, 50]\n"
     ]
    }
   ],
   "source": [
    "mylist = [10, 20, 30, 40, 50]\n",
    "print(mylist)\n",
    "del mylist[0] # deleting the specified index\n",
    "print(mylist)"
   ]
  },
  {
   "cell_type": "code",
   "execution_count": 17,
   "id": "8f8ae24a-7af7-4f36-862b-37c569e743c6",
   "metadata": {},
   "outputs": [
    {
     "ename": "NameError",
     "evalue": "name 'mylist' is not defined",
     "output_type": "error",
     "traceback": [
      "\u001b[0;31m---------------------------------------------------------------------------\u001b[0m",
      "\u001b[0;31mNameError\u001b[0m                                 Traceback (most recent call last)",
      "Cell \u001b[0;32mIn[17], line 3\u001b[0m\n\u001b[1;32m      1\u001b[0m \u001b[38;5;28;01mdel\u001b[39;00m mylist \u001b[38;5;66;03m# deleting the list \u001b[39;00m\n\u001b[1;32m      2\u001b[0m \u001b[38;5;66;03m# it deletes the list instead of removing all elements in the list. So the next line will result in an error.\u001b[39;00m\n\u001b[0;32m----> 3\u001b[0m \u001b[38;5;28mprint\u001b[39m(\u001b[43mmylist\u001b[49m)\n",
      "\u001b[0;31mNameError\u001b[0m: name 'mylist' is not defined"
     ]
    }
   ],
   "source": [
    "del mylist # deleting the list \n",
    "# it deletes the list instead of removing all elements in the list. So the next line will result in an error.\n",
    "print(mylist)"
   ]
  }
 ],
 "metadata": {
  "kernelspec": {
   "display_name": "Python 3 (ipykernel)",
   "language": "python",
   "name": "python3"
  },
  "language_info": {
   "codemirror_mode": {
    "name": "ipython",
    "version": 3
   },
   "file_extension": ".py",
   "mimetype": "text/x-python",
   "name": "python",
   "nbconvert_exporter": "python",
   "pygments_lexer": "ipython3",
   "version": "3.12.1"
  }
 },
 "nbformat": 4,
 "nbformat_minor": 5
}
